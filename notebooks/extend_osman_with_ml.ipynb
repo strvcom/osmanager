{
 "cells": [
  {
   "cell_type": "code",
   "execution_count": 1,
   "metadata": {},
   "outputs": [],
   "source": [
    "from osman import Osman, OsmanConfig\n",
    "import pandas as pd"
   ]
  },
  {
   "cell_type": "code",
   "execution_count": 3,
   "metadata": {},
   "outputs": [],
   "source": [
    "OS_HOST_URL=\"http://localhost:9200\"\n",
    "TEMPLATE_NAME = 'semantic_search'\n",
    "INDEX_NAME = \"bible\""
   ]
  },
  {
   "cell_type": "code",
   "execution_count": 4,
   "metadata": {},
   "outputs": [],
   "source": [
    "os_man = Osman(OsmanConfig(host_url=OS_HOST_URL))"
   ]
  },
  {
   "cell_type": "code",
   "execution_count": 5,
   "metadata": {},
   "outputs": [],
   "source": [
    "cluster_settings = {\n",
    "    \"transient\": {\n",
    "        \"plugins.ml_commons.model_access_control_enabled\": True,\n",
    "        \"plugins.ml_commons.allow_registering_model_via_url\": True,\n",
    "        \"plugins.ml_commons.only_run_on_ml_node\": False,\n",
    "    },\n",
    "    \"persistent\": {\n",
    "        \"plugins\": {\n",
    "            \"ml_commons\": {\n",
    "                \"only_run_on_ml_node\": \"false\",\n",
    "                \"model_access_control_enabled\": \"true\",\n",
    "                \"native_memory_threshold\": \"99\"\n",
    "            }\n",
    "        }\n",
    "    }\n",
    "}"
   ]
  },
  {
   "cell_type": "code",
   "execution_count": 6,
   "metadata": {},
   "outputs": [
    {
     "data": {
      "text/plain": [
       "{'acknowledged': True,\n",
       " 'persistent': {'plugins': {'ml_commons': {'only_run_on_ml_node': 'false',\n",
       "    'model_access_control_enabled': 'true',\n",
       "    'native_memory_threshold': '99'}}},\n",
       " 'transient': {'plugins': {'ml_commons': {'only_run_on_ml_node': 'false',\n",
       "    'allow_registering_model_via_url': 'true',\n",
       "    'model_access_control_enabled': 'true'}}}}"
      ]
     },
     "execution_count": 6,
     "metadata": {},
     "output_type": "execute_result"
    }
   ],
   "source": [
    "os_man.update_cluster_settings(cluster_settings)"
   ]
  },
  {
   "cell_type": "code",
   "execution_count": 7,
   "metadata": {},
   "outputs": [
    {
     "data": {
      "text/plain": [
       "{'persistent': {'plugins': {'ml_commons': {'only_run_on_ml_node': 'false',\n",
       "    'model_access_control_enabled': 'true',\n",
       "    'native_memory_threshold': '99'},\n",
       "   'index_state_management': {'template_migration': {'control': '-1'}}}},\n",
       " 'transient': {'plugins': {'ml_commons': {'only_run_on_ml_node': 'false',\n",
       "    'allow_registering_model_via_url': 'true',\n",
       "    'model_access_control_enabled': 'true'}}}}"
      ]
     },
     "execution_count": 7,
     "metadata": {},
     "output_type": "execute_result"
    }
   ],
   "source": [
    "os_man.client.cluster.get_settings()"
   ]
  },
  {
   "cell_type": "code",
   "execution_count": 8,
   "metadata": {},
   "outputs": [
    {
     "data": {
      "text/plain": [
       "{'task_id': 'KXEt_pABsga7C9sF5WAN', 'status': 'CREATED'}"
      ]
     },
     "execution_count": 8,
     "metadata": {},
     "output_type": "execute_result"
    }
   ],
   "source": [
    "model_payload = {\n",
    "    \"name\": \"example-model\",\n",
    "    \"version\": \"1.0.0\",\n",
    "    \"model_format\": \"TORCH_SCRIPT\"\n",
    "}\n",
    "os_man.send_post_request(\n",
    "    \"/_plugins/_ml/models/_register\",\n",
    "    model_payload\n",
    ")"
   ]
  },
  {
   "cell_type": "code",
   "execution_count": 9,
   "metadata": {},
   "outputs": [
    {
     "data": {
      "text/plain": [
       "{'model_id': '2GxrxZABMGFYeblGLfke',\n",
       " 'task_type': 'REGISTER_MODEL',\n",
       " 'function_name': 'TEXT_EMBEDDING',\n",
       " 'state': 'COMPLETED',\n",
       " 'worker_node': ['nKXVxBBkT0icEj3xqD4f5A'],\n",
       " 'create_time': 1721299052391,\n",
       " 'last_update_time': 1721299086189,\n",
       " 'is_async': True}"
      ]
     },
     "execution_count": 9,
     "metadata": {},
     "output_type": "execute_result"
    }
   ],
   "source": [
    "task_id = \"12xrxZABMGFYeblGJ_ln\"\n",
    "endpoint = f\"/_plugins/_ml/tasks/{task_id}\"\n",
    "\n",
    "os_man.send_get_request(endpoint)"
   ]
  },
  {
   "cell_type": "code",
   "execution_count": 10,
   "metadata": {},
   "outputs": [
    {
     "data": {
      "text/plain": [
       "{'task_id': 'KnEt_pABsga7C9sF7GAt',\n",
       " 'task_type': 'DEPLOY_MODEL',\n",
       " 'status': 'CREATED'}"
      ]
     },
     "execution_count": 10,
     "metadata": {},
     "output_type": "execute_result"
    }
   ],
   "source": [
    "model_id = \"2GxrxZABMGFYeblGLfke\"\n",
    "endpoint = f\"/_plugins/_ml/models/{model_id}/_deploy\"\n",
    "payload = {}\n",
    "os_man.send_post_request(endpoint, payload)\n"
   ]
  },
  {
   "cell_type": "code",
   "execution_count": 11,
   "metadata": {},
   "outputs": [
    {
     "data": {
      "text/plain": [
       "{'acknowledged': True}"
      ]
     },
     "execution_count": 11,
     "metadata": {},
     "output_type": "execute_result"
    }
   ],
   "source": [
    "pipeline_id = \"nlp-ingest-pipeline\"\n",
    "endpoint = f\"/_ingest/pipeline/{pipeline_id}\"\n",
    "\n",
    "# Define the payload for the ingest pipeline\n",
    "pipeline_payload = {\n",
    "    \"description\": \"An NLP ingest pipeline\",\n",
    "    \"processors\": [\n",
    "        {\n",
    "            \"text_embedding\": {\n",
    "                \"model_id\": \"2GxrxZABMGFYeblGLfke\",\n",
    "                \"field_map\": {\n",
    "                    \"content\": \"passage_embedding\"\n",
    "                }\n",
    "            }\n",
    "        }\n",
    "    ]\n",
    "}\n",
    "\n",
    "os_man.send_put_request(endpoint, pipeline_payload)"
   ]
  },
  {
   "cell_type": "code",
   "execution_count": 12,
   "metadata": {},
   "outputs": [],
   "source": [
    "index_name = \"bible-nlp\"\n",
    "endpoint = f\"/{index_name}\"\n",
    "\n",
    "index_payload = {\n",
    "    \"settings\": {\n",
    "        \"index.knn\": True,\n",
    "        \"default_pipeline\": \"nlp-ingest-pipeline\"\n",
    "    },\n",
    "    \"mappings\": {\n",
    "        \"properties\": {\n",
    "            \"id\": {\n",
    "                \"type\": \"integer\"\n",
    "            },\n",
    "            \"verse_id\": {\n",
    "                \"type\": \"keyword\"\n",
    "            },\n",
    "            \"passage_embedding\": {\n",
    "                \"type\": \"knn_vector\",\n",
    "                \"dimension\": 768,\n",
    "                \"method\": {\n",
    "                    \"engine\": \"lucene\",\n",
    "                    \"space_type\": \"l2\",\n",
    "                    \"name\": \"hnsw\",\n",
    "                    \"parameters\": {}\n",
    "                }\n",
    "            },\n",
    "            \"content\": {\n",
    "                \"type\": \"text\"\n",
    "            }\n",
    "        }\n",
    "    }\n",
    "}\n",
    "\n",
    "os_man.send_put_request(endpoint, index_payload)"
   ]
  },
  {
   "cell_type": "code",
   "execution_count": 13,
   "metadata": {},
   "outputs": [],
   "source": [
    "TEMPLATE_NAME = 'semantic_search'\n",
    "source = {\n",
    "    \"_source\": {\n",
    "        \"excludes\": [\"passage_embedding\"]\n",
    "    },\n",
    "    \"query\": {\n",
    "        \"bool\": {\n",
    "            \"should\": [\n",
    "                {\n",
    "                    \"fuzzy\": {\n",
    "                        \"content\": {  \n",
    "                            \"value\": \"{{query_text}}\",\n",
    "                            \"fuzziness\": 2,  \n",
    "                            \"prefix_length\": 1  \n",
    "                        }\n",
    "                    }\n",
    "                }\n",
    "            ],\n",
    "            \"minimum_should_match\": 1  \n",
    "        }\n",
    "    }\n",
    "}"
   ]
  },
  {
   "cell_type": "code",
   "execution_count": 63,
   "metadata": {},
   "outputs": [],
   "source": [
    "source = {\n",
    "    \"size\": 500,\n",
    "    \"query\": {\n",
    "        \"neural\": {\n",
    "            \"passage_embedding\": {\n",
    "                \"query_text\": \"{{query_text}}\",\n",
    "                \"model_id\": \"{{model_id}}\",\n",
    "                \"k\": \"{{k}}\"\n",
    "                }\n",
    "            }\n",
    "        }\n",
    "    }"
   ]
  },
  {
   "cell_type": "code",
   "execution_count": 65,
   "metadata": {},
   "outputs": [
    {
     "data": {
      "text/plain": [
       "{'acknowledged': True,\n",
       " 'differences': {'size': 500,\n",
       "  'query': {'neural': {'passage_embedding': {'query_text': '{{query_text}}',\n",
       "     'model_id': '{{model_id}}',\n",
       "     'k': '{{k}}'}}}}}"
      ]
     },
     "execution_count": 65,
     "metadata": {},
     "output_type": "execute_result"
    }
   ],
   "source": [
    "TEMPLATE_NAME = 'semantic_search2'\n",
    "INDEX_NAME = \"bible-nlp\"\n",
    "\n",
    "params = {\n",
    "    \"query_text\": \"christ\",\n",
    "    \"model_id\": \"2GxrxZABMGFYeblGLfke\",\n",
    "    \"k\": 5\n",
    "}\n",
    "\n",
    "os_man.upload_search_template(\n",
    "    source=source, \n",
    "    name=TEMPLATE_NAME, \n",
    "    index=INDEX_NAME, \n",
    "    params=params\n",
    ")"
   ]
  },
  {
   "cell_type": "code",
   "execution_count": 38,
   "metadata": {},
   "outputs": [
    {
     "data": {
      "text/plain": [
       "{'acknowledged': False}"
      ]
     },
     "execution_count": 38,
     "metadata": {},
     "output_type": "execute_result"
    }
   ],
   "source": [
    "source = {\n",
    "    \"_source\": {\n",
    "        \"excludes\": [\"passage_embedding\"]\n",
    "    },\n",
    "    \"query\": {\n",
    "        \"bool\": {\n",
    "            \"should\": [\n",
    "                {\n",
    "                    \"fuzzy\": {\n",
    "                        \"content\": {  \n",
    "                            \"value\": \"{{query_text}}\",\n",
    "                            \"fuzziness\": 2,  \n",
    "                            \"prefix_length\": 1  \n",
    "                        }\n",
    "                    }\n",
    "                }\n",
    "            ],\n",
    "            \"minimum_should_match\": 1  \n",
    "        }\n",
    "    }\n",
    "}\n",
    "\n",
    "TEMPLATE_NAME = 'semantic_search2'\n",
    "INDEX_NAME = \"bible-nlp\"\n",
    "\n",
    "params = {\n",
    "    \"query_text\": \"christ\",\n",
    "    \"model_id\": \"2GxrxZABMGFYeblGLfke\",\n",
    "    \"k\": 5\n",
    "}\n",
    "\n",
    "os_man.upload_search_template(\n",
    "    source=source, \n",
    "    name=TEMPLATE_NAME, \n",
    "    index=INDEX_NAME, \n",
    "    params=params\n",
    ")"
   ]
  },
  {
   "cell_type": "code",
   "execution_count": 39,
   "metadata": {},
   "outputs": [],
   "source": [
    "from opensearchpy import OpenSearch\n",
    "\n",
    "# Connection settings\n",
    "host = 'localhost'\n",
    "port = 9200\n",
    "\n",
    "# Connect to OpenSearch\n",
    "client = OpenSearch(\n",
    "    hosts=[{'host': host, 'port': port}],\n",
    "    use_ssl=False,\n",
    "    verify_certs=False,\n",
    "    ssl_assert_hostname=False,\n",
    "    ssl_show_warn=False\n",
    ")"
   ]
  },
  {
   "cell_type": "code",
   "execution_count": 58,
   "metadata": {},
   "outputs": [
    {
     "name": "stdout",
     "output_type": "stream",
     "text": [
      "{'took': 33, 'timed_out': False, '_shards': {'total': 1, 'successful': 1, 'skipped': 0, 'failed': 0}, 'hits': {'total': {'value': 1421, 'relation': 'eq'}, 'max_score': 1.3318306, 'hits': [{'_index': 'bible-nlp', '_id': '78057', '_score': 1.3318306, '_source': {'verse_id': '78:57', 'id': 78057, 'content': 'But turned back, and dealt unfaithfully like their fathers: they\\nwere turned aside like a deceitful bow.'}}, {'_index': 'bible-nlp', '_id': '9061', '_score': 1.1733632, '_source': {'verse_id': '9:61', 'id': 9061, 'content': 'And another also said, Lord, I will follow thee; but let me first\\ngo bid them farewell, which are at home at my house.'}}, {'_index': 'bible-nlp', '_id': '33006', '_score': 1.0684036, '_source': {'verse_id': '33:6', 'id': 33006, 'content': \"But if the watchman see the sword come, and blow not the trumpet,\\nand the people be not warned; if the sword come, and take any person\\nfrom among them, he is taken away in his iniquity; but his blood will\\nI require at the watchman's hand.\"}}, {'_index': 'bible-nlp', '_id': '44032', '_score': 1.0647707, '_source': {'verse_id': '44:32', 'id': 44032, 'content': 'For thy servant became surety for the lad unto my father,\\nsaying, If I bring him not unto thee, then I shall bear the blame to\\nmy father for ever.'}}, {'_index': 'bible-nlp', '_id': '22036', '_score': 1.0028933, '_source': {'verse_id': '22:36', 'id': 22036, 'content': 'Then said he unto them, But now, he that hath a purse, let him\\ntake it, and likewise his scrip: and he that hath no sword, let him\\nsell his garment, and buy one.'}}, {'_index': 'bible-nlp', '_id': '3005', '_score': 0.9478129, '_source': {'verse_id': '3:5', 'id': 3005, 'content': 'He that overcometh, the same shall be clothed in white raiment;\\nand I will not blot out his name out of the book of life, but I will\\nconfess his name before my Father, and before his angels.'}}, {'_index': 'bible-nlp', '_id': '55010', '_score': 0.93497527, '_source': {'verse_id': '55:10', 'id': 55010, 'content': 'For as the rain cometh down, and the snow from heaven, and\\nreturneth not thither, but watereth the earth, and maketh it bring\\nforth and bud, that it may give seed to the sower, and bread to the\\neater:'}}, {'_index': 'bible-nlp', '_id': '2014', '_score': 0.9224808, '_source': {'verse_id': '2:14', 'id': 2014, 'content': 'But I have a few things against thee, because thou hast there\\nthem that hold the doctrine of Balaam, who taught Balac to cast a\\nstumblingblock before the children of Israel, to eat things sacrificed\\nunto idols, and to commit fornication.'}}, {'_index': 'bible-nlp', '_id': '115005', '_score': 0.91280556, '_source': {'verse_id': '115:5', 'id': 115005, 'content': 'They have mouths, but they speak not: eyes have they, but they\\nsee not:'}}, {'_index': 'bible-nlp', '_id': '115006', '_score': 0.91280556, '_source': {'verse_id': '115:6', 'id': 115006, 'content': 'They have ears, but they hear not: noses have they, but they\\nsmell not:'}}]}}\n"
     ]
    }
   ],
   "source": [
    "# Define the template parameters\n",
    "template_params = {\n",
    "    \"id\": \"semantic_search2\",  # The name of the template you uploaded\n",
    "    \"params\": {\n",
    "        \"query_text\": \"bla\"  \n",
    "    }\n",
    "}\n",
    "\n",
    "# Execute the search using the search template\n",
    "response = client.search_template(\n",
    "    body=template_params,\n",
    "    index=\"bible-nlp\" \n",
    ")\n",
    "\n",
    "# Print the response\n",
    "print(response)\n"
   ]
  },
  {
   "cell_type": "code",
   "execution_count": 60,
   "metadata": {},
   "outputs": [],
   "source": [
    "# Extracting the data from the response\n",
    "hits = response['hits']['hits']\n",
    "data = [\n",
    "    {\n",
    "        \"Index\": hit['_index'],\n",
    "        \"Score\": hit['_score'],\n",
    "        \"Verse ID\": hit['_source']['verse_id'],\n",
    "        \"Content\": hit['_source']['content'].replace('\\n', ' ')  # Replacing newline characters for better display\n",
    "    }\n",
    "    for hit in hits\n",
    "]\n",
    "\n",
    "# Creating a DataFrame\n",
    "df = pd.DataFrame(data)"
   ]
  },
  {
   "cell_type": "code",
   "execution_count": 61,
   "metadata": {},
   "outputs": [
    {
     "data": {
      "text/html": [
       "<div>\n",
       "<style scoped>\n",
       "    .dataframe tbody tr th:only-of-type {\n",
       "        vertical-align: middle;\n",
       "    }\n",
       "\n",
       "    .dataframe tbody tr th {\n",
       "        vertical-align: top;\n",
       "    }\n",
       "\n",
       "    .dataframe thead th {\n",
       "        text-align: right;\n",
       "    }\n",
       "</style>\n",
       "<table border=\"1\" class=\"dataframe\">\n",
       "  <thead>\n",
       "    <tr style=\"text-align: right;\">\n",
       "      <th></th>\n",
       "      <th>Index</th>\n",
       "      <th>Score</th>\n",
       "      <th>Verse ID</th>\n",
       "      <th>Content</th>\n",
       "    </tr>\n",
       "  </thead>\n",
       "  <tbody>\n",
       "    <tr>\n",
       "      <th>0</th>\n",
       "      <td>bible-nlp</td>\n",
       "      <td>1.331831</td>\n",
       "      <td>78:57</td>\n",
       "      <td>But turned back, and dealt unfaithfully like t...</td>\n",
       "    </tr>\n",
       "    <tr>\n",
       "      <th>1</th>\n",
       "      <td>bible-nlp</td>\n",
       "      <td>1.173363</td>\n",
       "      <td>9:61</td>\n",
       "      <td>And another also said, Lord, I will follow the...</td>\n",
       "    </tr>\n",
       "    <tr>\n",
       "      <th>2</th>\n",
       "      <td>bible-nlp</td>\n",
       "      <td>1.068404</td>\n",
       "      <td>33:6</td>\n",
       "      <td>But if the watchman see the sword come, and bl...</td>\n",
       "    </tr>\n",
       "    <tr>\n",
       "      <th>3</th>\n",
       "      <td>bible-nlp</td>\n",
       "      <td>1.064771</td>\n",
       "      <td>44:32</td>\n",
       "      <td>For thy servant became surety for the lad unto...</td>\n",
       "    </tr>\n",
       "    <tr>\n",
       "      <th>4</th>\n",
       "      <td>bible-nlp</td>\n",
       "      <td>1.002893</td>\n",
       "      <td>22:36</td>\n",
       "      <td>Then said he unto them, But now, he that hath ...</td>\n",
       "    </tr>\n",
       "    <tr>\n",
       "      <th>5</th>\n",
       "      <td>bible-nlp</td>\n",
       "      <td>0.947813</td>\n",
       "      <td>3:5</td>\n",
       "      <td>He that overcometh, the same shall be clothed ...</td>\n",
       "    </tr>\n",
       "    <tr>\n",
       "      <th>6</th>\n",
       "      <td>bible-nlp</td>\n",
       "      <td>0.934975</td>\n",
       "      <td>55:10</td>\n",
       "      <td>For as the rain cometh down, and the snow from...</td>\n",
       "    </tr>\n",
       "    <tr>\n",
       "      <th>7</th>\n",
       "      <td>bible-nlp</td>\n",
       "      <td>0.922481</td>\n",
       "      <td>2:14</td>\n",
       "      <td>But I have a few things against thee, because ...</td>\n",
       "    </tr>\n",
       "    <tr>\n",
       "      <th>8</th>\n",
       "      <td>bible-nlp</td>\n",
       "      <td>0.912806</td>\n",
       "      <td>115:5</td>\n",
       "      <td>They have mouths, but they speak not: eyes hav...</td>\n",
       "    </tr>\n",
       "    <tr>\n",
       "      <th>9</th>\n",
       "      <td>bible-nlp</td>\n",
       "      <td>0.912806</td>\n",
       "      <td>115:6</td>\n",
       "      <td>They have ears, but they hear not: noses have ...</td>\n",
       "    </tr>\n",
       "  </tbody>\n",
       "</table>\n",
       "</div>"
      ],
      "text/plain": [
       "       Index     Score Verse ID  \\\n",
       "0  bible-nlp  1.331831    78:57   \n",
       "1  bible-nlp  1.173363     9:61   \n",
       "2  bible-nlp  1.068404     33:6   \n",
       "3  bible-nlp  1.064771    44:32   \n",
       "4  bible-nlp  1.002893    22:36   \n",
       "5  bible-nlp  0.947813      3:5   \n",
       "6  bible-nlp  0.934975    55:10   \n",
       "7  bible-nlp  0.922481     2:14   \n",
       "8  bible-nlp  0.912806    115:5   \n",
       "9  bible-nlp  0.912806    115:6   \n",
       "\n",
       "                                             Content  \n",
       "0  But turned back, and dealt unfaithfully like t...  \n",
       "1  And another also said, Lord, I will follow the...  \n",
       "2  But if the watchman see the sword come, and bl...  \n",
       "3  For thy servant became surety for the lad unto...  \n",
       "4  Then said he unto them, But now, he that hath ...  \n",
       "5  He that overcometh, the same shall be clothed ...  \n",
       "6  For as the rain cometh down, and the snow from...  \n",
       "7  But I have a few things against thee, because ...  \n",
       "8  They have mouths, but they speak not: eyes hav...  \n",
       "9  They have ears, but they hear not: noses have ...  "
      ]
     },
     "execution_count": 61,
     "metadata": {},
     "output_type": "execute_result"
    }
   ],
   "source": [
    "df"
   ]
  },
  {
   "cell_type": "code",
   "execution_count": null,
   "metadata": {},
   "outputs": [],
   "source": []
  }
 ],
 "metadata": {
  "kernelspec": {
   "display_name": "ds_ascension_demo",
   "language": "python",
   "name": "python3"
  },
  "language_info": {
   "codemirror_mode": {
    "name": "ipython",
    "version": 3
   },
   "file_extension": ".py",
   "mimetype": "text/x-python",
   "name": "python",
   "nbconvert_exporter": "python",
   "pygments_lexer": "ipython3",
   "version": "3.11.0"
  }
 },
 "nbformat": 4,
 "nbformat_minor": 2
}
