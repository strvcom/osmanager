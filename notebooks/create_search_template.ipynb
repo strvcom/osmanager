{
 "cells": [
  {
   "cell_type": "code",
   "execution_count": 2,
   "metadata": {},
   "outputs": [],
   "source": [
    "from osman import Osman, OsmanConfig\n",
    "import pandas as pd"
   ]
  },
  {
   "cell_type": "code",
   "execution_count": 3,
   "metadata": {},
   "outputs": [],
   "source": [
    "OS_HOST_URL=\"http://localhost:9200\"\n",
    "TEMPLATE_NAME = 'semantic_search'\n",
    "INDEX_NAME = \"bible\""
   ]
  },
  {
   "cell_type": "code",
   "execution_count": 4,
   "metadata": {},
   "outputs": [],
   "source": [
    "os_man = Osman(OsmanConfig(host_url=OS_HOST_URL))"
   ]
  },
  {
   "cell_type": "code",
   "execution_count": 5,
   "metadata": {},
   "outputs": [
    {
     "data": {
      "text/plain": [
       "{'acknowledged': False}"
      ]
     },
     "execution_count": 5,
     "metadata": {},
     "output_type": "execute_result"
    }
   ],
   "source": [
    "source = {\n",
    "    \"_source\": {\n",
    "        \"excludes\": [\"passage_embedding\"]\n",
    "    },\n",
    "    \"query\": {\n",
    "        \"bool\": {\n",
    "            \"should\": [\n",
    "                {\n",
    "                    \"fuzzy\": {\n",
    "                        \"content\": {  \n",
    "                            \"value\": \"{{query_text}}\",\n",
    "                            \"fuzziness\": 2,  \n",
    "                            \"prefix_length\": 1  \n",
    "                        }\n",
    "                    }\n",
    "                }\n",
    "            ],\n",
    "            \"minimum_should_match\": 1  \n",
    "        }\n",
    "    }\n",
    "}\n",
    "\n",
    "params = {\n",
    "    \"query_text\": \"christ\"  # Example search text\n",
    "}\n",
    "\n",
    "os_man.upload_search_template(\n",
    "    source=source, \n",
    "    name=TEMPLATE_NAME, \n",
    "    index=INDEX_NAME, \n",
    "    params=params\n",
    ")\n"
   ]
  },
  {
   "cell_type": "code",
   "execution_count": 6,
   "metadata": {},
   "outputs": [],
   "source": [
    "from opensearchpy import OpenSearch\n",
    "\n",
    "# Connection settings\n",
    "host = 'localhost'\n",
    "port = 9200\n",
    "\n",
    "# Connect to OpenSearch\n",
    "client = OpenSearch(\n",
    "    hosts=[{'host': host, 'port': port}],\n",
    "    use_ssl=False,\n",
    "    verify_certs=False,\n",
    "    ssl_assert_hostname=False,\n",
    "    ssl_show_warn=False\n",
    ")"
   ]
  },
  {
   "cell_type": "code",
   "execution_count": 14,
   "metadata": {},
   "outputs": [
    {
     "name": "stdout",
     "output_type": "stream",
     "text": [
      "{'took': 19, 'timed_out': False, '_shards': {'total': 1, 'successful': 1, 'skipped': 0, 'failed': 0}, 'hits': {'total': {'value': 0, 'relation': 'eq'}, 'max_score': None, 'hits': []}}\n"
     ]
    }
   ],
   "source": [
    "# Define the template parameters\n",
    "template_params = {\n",
    "    \"id\": TEMPLATE_NAME,  # The name of the template you uploaded\n",
    "    \"params\": {\n",
    "        \"query_text\": \"hamburger\"  # The text to search for\n",
    "    }\n",
    "}\n",
    "\n",
    "# Execute the search using the search template\n",
    "response = client.search_template(\n",
    "    body=template_params,\n",
    "    index=INDEX_NAME  # The name of the index where the template should be applied\n",
    ")\n",
    "\n",
    "# Print the response\n",
    "print(response)\n"
   ]
  },
  {
   "cell_type": "code",
   "execution_count": 15,
   "metadata": {},
   "outputs": [],
   "source": [
    "# Extracting the data from the response\n",
    "hits = response['hits']['hits']\n",
    "data = [\n",
    "    {\n",
    "        \"Index\": hit['_index'],\n",
    "        \"Score\": hit['_score'],\n",
    "        \"Verse ID\": hit['_source']['verse_id'],\n",
    "        \"Content\": hit['_source']['content'].replace('\\n', ' ')  # Replacing newline characters for better display\n",
    "    }\n",
    "    for hit in hits\n",
    "]\n",
    "\n",
    "# Creating a DataFrame\n",
    "df = pd.DataFrame(data)"
   ]
  },
  {
   "cell_type": "code",
   "execution_count": 16,
   "metadata": {},
   "outputs": [
    {
     "data": {
      "text/html": [
       "<div>\n",
       "<style scoped>\n",
       "    .dataframe tbody tr th:only-of-type {\n",
       "        vertical-align: middle;\n",
       "    }\n",
       "\n",
       "    .dataframe tbody tr th {\n",
       "        vertical-align: top;\n",
       "    }\n",
       "\n",
       "    .dataframe thead th {\n",
       "        text-align: right;\n",
       "    }\n",
       "</style>\n",
       "<table border=\"1\" class=\"dataframe\">\n",
       "  <thead>\n",
       "    <tr style=\"text-align: right;\">\n",
       "      <th></th>\n",
       "    </tr>\n",
       "  </thead>\n",
       "  <tbody>\n",
       "  </tbody>\n",
       "</table>\n",
       "</div>"
      ],
      "text/plain": [
       "Empty DataFrame\n",
       "Columns: []\n",
       "Index: []"
      ]
     },
     "execution_count": 16,
     "metadata": {},
     "output_type": "execute_result"
    }
   ],
   "source": [
    "df"
   ]
  }
 ],
 "metadata": {
  "kernelspec": {
   "display_name": "ds_ascension_demo",
   "language": "python",
   "name": "python3"
  },
  "language_info": {
   "codemirror_mode": {
    "name": "ipython",
    "version": 3
   },
   "file_extension": ".py",
   "mimetype": "text/x-python",
   "name": "python",
   "nbconvert_exporter": "python",
   "pygments_lexer": "ipython3",
   "version": "3.11.0"
  }
 },
 "nbformat": 4,
 "nbformat_minor": 2
}
