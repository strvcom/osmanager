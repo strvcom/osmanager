{
 "cells": [
  {
   "cell_type": "code",
   "execution_count": 11,
   "metadata": {},
   "outputs": [],
   "source": [
    "from osman import Osman, OsmanConfig\n",
    "from opensearchpy import OpenSearch\n",
    "import pandas as pd\n",
    "import re"
   ]
  },
  {
   "cell_type": "code",
   "execution_count": 12,
   "metadata": {},
   "outputs": [],
   "source": [
    "OS_HOST_URL=\"http://localhost:9200\"\n",
    "TEMPLATE_NAME = 'semantic_search'\n",
    "INDEX_NAME = \"bible-nlp\"\n",
    "ID_KEY = \"id\""
   ]
  },
  {
   "cell_type": "code",
   "execution_count": 13,
   "metadata": {},
   "outputs": [],
   "source": [
    "host = 'localhost'\n",
    "port = 9200\n",
    "\n",
    "# Connect to OpenSearch\n",
    "client = OpenSearch(\n",
    "    hosts=[{'host': host, 'port': port}],\n",
    "    use_ssl=False,\n",
    "    verify_certs=False,\n",
    "    ssl_assert_hostname=False,\n",
    "    ssl_show_warn=False\n",
    ")"
   ]
  },
  {
   "cell_type": "code",
   "execution_count": 14,
   "metadata": {},
   "outputs": [],
   "source": [
    "os_man = Osman(OsmanConfig(host_url=OS_HOST_URL))"
   ]
  },
  {
   "cell_type": "code",
   "execution_count": 15,
   "metadata": {},
   "outputs": [],
   "source": [
    "# Open the file and read its contents\n",
    "with open('bible.txt', 'r') as file:\n",
    "    bible_text = file.read()"
   ]
  },
  {
   "cell_type": "code",
   "execution_count": 16,
   "metadata": {},
   "outputs": [],
   "source": [
    "# Split the text using regular expressions\n",
    "verses = re.split(r'(\\d+:\\d+)', bible_text)"
   ]
  },
  {
   "cell_type": "code",
   "execution_count": 17,
   "metadata": {},
   "outputs": [],
   "source": [
    "bible_dict = {}\n",
    "# Iterate in steps of 2 starting from 1, since 0 is likely an empty string before the first verse\n",
    "for i in range(1, len(verses), 2):\n",
    "    verse_number = verses[i]\n",
    "    verse_text = verses[i + 1].strip()  # Use strip() to remove any leading/trailing whitespace\n",
    "    bible_dict[verse_number] = verse_text\n"
   ]
  },
  {
   "cell_type": "code",
   "execution_count": 18,
   "metadata": {},
   "outputs": [],
   "source": [
    "def generate_id(verse_id):\n",
    "    chapter, verse = verse_id.split(':')\n",
    "    return int(chapter) * 1000 + int(verse)  # Convert chapter:verse into a unique integer ID\n",
    "\n",
    "documents = [\n",
    "    {\"verse_id\": verse_id, \"content\": content, \"id\": generate_id(verse_id)}\n",
    "    for verse_id, content in bible_dict.items()\n",
    "]\n"
   ]
  },
  {
   "cell_type": "code",
   "execution_count": 19,
   "metadata": {},
   "outputs": [],
   "source": [
    "# Insert data into OpenSearch index\n",
    "response = os_man.add_data_to_index(\n",
    "    index_name=INDEX_NAME,\n",
    "    documents=documents,\n",
    "    id_key=ID_KEY,\n",
    "    refresh=True  # Set to True for immediate availability, but be cautious in production\n",
    ")\n"
   ]
  }
 ],
 "metadata": {
  "kernelspec": {
   "display_name": "ds_ascension_demo",
   "language": "python",
   "name": "python3"
  },
  "language_info": {
   "codemirror_mode": {
    "name": "ipython",
    "version": 3
   },
   "file_extension": ".py",
   "mimetype": "text/x-python",
   "name": "python",
   "nbconvert_exporter": "python",
   "pygments_lexer": "ipython3",
   "version": "3.11.0"
  }
 },
 "nbformat": 4,
 "nbformat_minor": 2
}
