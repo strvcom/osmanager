{
 "cells": [
  {
   "cell_type": "code",
   "execution_count": 36,
   "metadata": {},
   "outputs": [],
   "source": [
    "from osman import Osman, OsmanConfig\n",
    "from opensearchpy import OpenSearch\n",
    "import pandas as pd\n",
    "import re"
   ]
  },
  {
   "cell_type": "code",
   "execution_count": 37,
   "metadata": {},
   "outputs": [],
   "source": [
    "OS_HOST_URL=\"http://localhost:9200\"\n",
    "TEMPLATE_NAME = 'semantic_search'\n",
    "INDEX_NAME = \"bible-nlp\"\n",
    "ID_KEY = \"id\""
   ]
  },
  {
   "cell_type": "code",
   "execution_count": 38,
   "metadata": {},
   "outputs": [],
   "source": [
    "host = 'localhost'\n",
    "port = 9200\n",
    "\n",
    "# Connect to OpenSearch\n",
    "client = OpenSearch(\n",
    "    hosts=[{'host': host, 'port': port}],\n",
    "    use_ssl=False,\n",
    "    verify_certs=False,\n",
    "    ssl_assert_hostname=False,\n",
    "    ssl_show_warn=False\n",
    ")"
   ]
  },
  {
   "cell_type": "code",
   "execution_count": 39,
   "metadata": {},
   "outputs": [],
   "source": [
    "os_man = Osman(OsmanConfig(host_url=OS_HOST_URL))"
   ]
  },
  {
   "cell_type": "code",
   "execution_count": 40,
   "metadata": {},
   "outputs": [],
   "source": [
    "# Open the file and read its contents\n",
    "with open('bible.txt', 'r') as file:\n",
    "    bible_text = file.read()"
   ]
  },
  {
   "cell_type": "code",
   "execution_count": 41,
   "metadata": {},
   "outputs": [],
   "source": [
    "# Split the text using regular expressions\n",
    "verses = re.split(r'(\\d+:\\d+)', bible_text)"
   ]
  },
  {
   "cell_type": "code",
   "execution_count": 42,
   "metadata": {},
   "outputs": [],
   "source": [
    "bible_dict = {}\n",
    "# Iterate in steps of 2 starting from 1, since 0 is likely an empty string before the first verse\n",
    "for i in range(1, len(verses), 2):\n",
    "    verse_number = verses[i]\n",
    "    verse_text = verses[i + 1].strip()  # Use strip() to remove any leading/trailing whitespace\n",
    "    bible_dict[verse_number] = verse_text\n"
   ]
  },
  {
   "cell_type": "code",
   "execution_count": 43,
   "metadata": {},
   "outputs": [],
   "source": [
    "def generate_id(verse_id):\n",
    "    chapter, verse = verse_id.split(':')\n",
    "    return int(chapter) * 1000 + int(verse)  # Convert chapter:verse into a unique integer ID\n",
    "\n",
    "documents = [\n",
    "    {\"verse_id\": verse_id, \"content\": content, \"id\": generate_id(verse_id)}\n",
    "    for verse_id, content in bible_dict.items()\n",
    "]\n"
   ]
  },
  {
   "cell_type": "code",
   "execution_count": 44,
   "metadata": {},
   "outputs": [],
   "source": [
    "# Insert data into OpenSearch index\n",
    "response = os_man.add_data_to_index(\n",
    "    index_name=INDEX_NAME,\n",
    "    documents=documents,\n",
    "    id_key=ID_KEY,\n",
    "    refresh=True  # Set to True for immediate availability, but be cautious in production\n",
    ")\n"
   ]
  },
  {
   "cell_type": "code",
   "execution_count": null,
   "metadata": {},
   "outputs": [],
   "source": []
  },
  {
   "cell_type": "code",
   "execution_count": 45,
   "metadata": {},
   "outputs": [
    {
     "ename": "KeyError",
     "evalue": "'hits'",
     "output_type": "error",
     "traceback": [
      "\u001b[0;31m---------------------------------------------------------------------------\u001b[0m",
      "\u001b[0;31mKeyError\u001b[0m                                  Traceback (most recent call last)",
      "Cell \u001b[0;32mIn[45], line 2\u001b[0m\n\u001b[1;32m      1\u001b[0m \u001b[38;5;66;03m# Extracting the data from the response\u001b[39;00m\n\u001b[0;32m----> 2\u001b[0m hits \u001b[38;5;241m=\u001b[39m \u001b[43mresponse\u001b[49m\u001b[43m[\u001b[49m\u001b[38;5;124;43m'\u001b[39;49m\u001b[38;5;124;43mhits\u001b[39;49m\u001b[38;5;124;43m'\u001b[39;49m\u001b[43m]\u001b[49m[\u001b[38;5;124m'\u001b[39m\u001b[38;5;124mhits\u001b[39m\u001b[38;5;124m'\u001b[39m]\n\u001b[1;32m      3\u001b[0m data \u001b[38;5;241m=\u001b[39m [\n\u001b[1;32m      4\u001b[0m     {\n\u001b[1;32m      5\u001b[0m         \u001b[38;5;124m\"\u001b[39m\u001b[38;5;124mIndex\u001b[39m\u001b[38;5;124m\"\u001b[39m: hit[\u001b[38;5;124m'\u001b[39m\u001b[38;5;124m_index\u001b[39m\u001b[38;5;124m'\u001b[39m],\n\u001b[0;32m   (...)\u001b[0m\n\u001b[1;32m     10\u001b[0m     \u001b[38;5;28;01mfor\u001b[39;00m hit \u001b[38;5;129;01min\u001b[39;00m hits\n\u001b[1;32m     11\u001b[0m ]\n\u001b[1;32m     13\u001b[0m \u001b[38;5;66;03m# Creating a DataFrame\u001b[39;00m\n",
      "\u001b[0;31mKeyError\u001b[0m: 'hits'"
     ]
    }
   ],
   "source": [
    "# Extracting the data from the response\n",
    "hits = response['hits']['hits']\n",
    "data = [\n",
    "    {\n",
    "        \"Index\": hit['_index'],\n",
    "        \"Score\": hit['_score'],\n",
    "        \"Verse ID\": hit['_source']['verse_id'],\n",
    "        \"Content\": hit['_source']['content'].replace('\\n', ' ')  # Replacing newline characters for better display\n",
    "    }\n",
    "    for hit in hits\n",
    "]\n",
    "\n",
    "# Creating a DataFrame\n",
    "df = pd.DataFrame(data)"
   ]
  },
  {
   "cell_type": "code",
   "execution_count": null,
   "metadata": {},
   "outputs": [
    {
     "data": {
      "text/html": [
       "<div>\n",
       "<style scoped>\n",
       "    .dataframe tbody tr th:only-of-type {\n",
       "        vertical-align: middle;\n",
       "    }\n",
       "\n",
       "    .dataframe tbody tr th {\n",
       "        vertical-align: top;\n",
       "    }\n",
       "\n",
       "    .dataframe thead th {\n",
       "        text-align: right;\n",
       "    }\n",
       "</style>\n",
       "<table border=\"1\" class=\"dataframe\">\n",
       "  <thead>\n",
       "    <tr style=\"text-align: right;\">\n",
       "      <th></th>\n",
       "      <th>Index</th>\n",
       "      <th>Score</th>\n",
       "      <th>Verse ID</th>\n",
       "      <th>Content</th>\n",
       "    </tr>\n",
       "  </thead>\n",
       "  <tbody>\n",
       "    <tr>\n",
       "      <th>0</th>\n",
       "      <td>bible</td>\n",
       "      <td>7.438810</td>\n",
       "      <td>15:23</td>\n",
       "      <td>But every man in his own order: Christ the fir...</td>\n",
       "    </tr>\n",
       "    <tr>\n",
       "      <th>1</th>\n",
       "      <td>bible</td>\n",
       "      <td>6.188467</td>\n",
       "      <td>3:27</td>\n",
       "      <td>For as many of you as have been baptized into ...</td>\n",
       "    </tr>\n",
       "    <tr>\n",
       "      <th>2</th>\n",
       "      <td>bible</td>\n",
       "      <td>5.771050</td>\n",
       "      <td>16:23</td>\n",
       "      <td>The grace of our Lord Jesus Christ be with you.</td>\n",
       "    </tr>\n",
       "    <tr>\n",
       "      <th>3</th>\n",
       "      <td>bible</td>\n",
       "      <td>5.536330</td>\n",
       "      <td>26:68</td>\n",
       "      <td>Saying, Prophesy unto us, thou Christ, Who is ...</td>\n",
       "    </tr>\n",
       "    <tr>\n",
       "      <th>4</th>\n",
       "      <td>bible</td>\n",
       "      <td>5.319957</td>\n",
       "      <td>16:22</td>\n",
       "      <td>If any man love not the Lord Jesus Christ, let...</td>\n",
       "    </tr>\n",
       "    <tr>\n",
       "      <th>5</th>\n",
       "      <td>bible</td>\n",
       "      <td>5.217992</td>\n",
       "      <td>15:57</td>\n",
       "      <td>But thanks be to God, which giveth us the vict...</td>\n",
       "    </tr>\n",
       "    <tr>\n",
       "      <th>6</th>\n",
       "      <td>bible</td>\n",
       "      <td>5.217992</td>\n",
       "      <td>15:22</td>\n",
       "      <td>For as in Adam all die, even so in Christ shal...</td>\n",
       "    </tr>\n",
       "    <tr>\n",
       "      <th>7</th>\n",
       "      <td>bible</td>\n",
       "      <td>5.091649</td>\n",
       "      <td>15:16</td>\n",
       "      <td>For if the dead rise not, then is not Christ r...</td>\n",
       "    </tr>\n",
       "    <tr>\n",
       "      <th>8</th>\n",
       "      <td>bible</td>\n",
       "      <td>5.091649</td>\n",
       "      <td>15:18</td>\n",
       "      <td>Then they also which are fallen asleep in Chri...</td>\n",
       "    </tr>\n",
       "    <tr>\n",
       "      <th>9</th>\n",
       "      <td>bible</td>\n",
       "      <td>4.942670</td>\n",
       "      <td>5:32</td>\n",
       "      <td>This is a great mystery: but I speak concernin...</td>\n",
       "    </tr>\n",
       "  </tbody>\n",
       "</table>\n",
       "</div>"
      ],
      "text/plain": [
       "   Index     Score Verse ID                                            Content\n",
       "0  bible  7.438810    15:23  But every man in his own order: Christ the fir...\n",
       "1  bible  6.188467     3:27  For as many of you as have been baptized into ...\n",
       "2  bible  5.771050    16:23    The grace of our Lord Jesus Christ be with you.\n",
       "3  bible  5.536330    26:68  Saying, Prophesy unto us, thou Christ, Who is ...\n",
       "4  bible  5.319957    16:22  If any man love not the Lord Jesus Christ, let...\n",
       "5  bible  5.217992    15:57  But thanks be to God, which giveth us the vict...\n",
       "6  bible  5.217992    15:22  For as in Adam all die, even so in Christ shal...\n",
       "7  bible  5.091649    15:16  For if the dead rise not, then is not Christ r...\n",
       "8  bible  5.091649    15:18  Then they also which are fallen asleep in Chri...\n",
       "9  bible  4.942670     5:32  This is a great mystery: but I speak concernin..."
      ]
     },
     "execution_count": 8,
     "metadata": {},
     "output_type": "execute_result"
    }
   ],
   "source": [
    "df"
   ]
  }
 ],
 "metadata": {
  "kernelspec": {
   "display_name": "ds_ascension_demo",
   "language": "python",
   "name": "python3"
  },
  "language_info": {
   "codemirror_mode": {
    "name": "ipython",
    "version": 3
   },
   "file_extension": ".py",
   "mimetype": "text/x-python",
   "name": "python",
   "nbconvert_exporter": "python",
   "pygments_lexer": "ipython3",
   "version": "3.11.0"
  }
 },
 "nbformat": 4,
 "nbformat_minor": 2
}
